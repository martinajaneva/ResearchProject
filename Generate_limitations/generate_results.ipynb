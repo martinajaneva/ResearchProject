{
 "cells": [
  {
   "cell_type": "code",
   "execution_count": 2,
   "id": "c088bd19-63fc-4827-bf40-e15db64bb199",
   "metadata": {},
   "outputs": [],
   "source": [
    "import sys\n",
    "import os\n",
    "!pip install transformers --quiet\n",
    "!pip install openai --quiet\n",
    "!pip install --upgrade PyMuPDF --quiet\n",
    "!pip install more-itertools --quiet\n",
    "sys.path.append(os.path.abspath(os.path.join(os.getcwd(),\"..\", \"helper\")))\n",
    "from bart_limitations import generate_lims\n"
   ]
  },
  {
   "cell_type": "code",
   "execution_count": 4,
   "id": "cb2f8a40-a971-4c73-8411-b9f52740dbc0",
   "metadata": {
    "scrolled": true
   },
   "outputs": [
    {
     "name": "stdout",
     "output_type": "stream",
     "text": [
      "Processing year 2022\n"
     ]
    },
    {
     "name": "stderr",
     "output_type": "stream",
     "text": [
      "100%|██████████| 343/343 [2:43:12<00:00, 28.55s/it]  \n"
     ]
    },
    {
     "name": "stdout",
     "output_type": "stream",
     "text": [
      "Loop Finished\n"
     ]
    }
   ],
   "source": [
    "years = (2013, 2025)\n",
    "\n",
    "for year in years:\n",
    "    print(f\"Processing year {year}\")\n",
    "    generate_lims(\n",
    "        model_path=\"training_model/model_output_abstract/final\",\n",
    "        input_path=f\"test_inputs/input_{year}.json\",          \n",
    "        output_path=f\"test_outputs/output_{year}.jsonl\",\n",
    "        check_limitations=True\n",
    "    )"
   ]
  },
  {
   "cell_type": "code",
   "execution_count": null,
   "id": "37092709-0207-4ef3-9c74-6bf048de8c1d",
   "metadata": {},
   "outputs": [],
   "source": []
  }
 ],
 "metadata": {
  "kernelspec": {
   "display_name": "Python 3 (ipykernel)",
   "language": "python",
   "name": "python3"
  },
  "language_info": {
   "codemirror_mode": {
    "name": "ipython",
    "version": 3
   },
   "file_extension": ".py",
   "mimetype": "text/x-python",
   "name": "python",
   "nbconvert_exporter": "python",
   "pygments_lexer": "ipython3",
   "version": "3.11.9"
  }
 },
 "nbformat": 4,
 "nbformat_minor": 5
}
