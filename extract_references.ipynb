{
 "cells": [
  {
   "cell_type": "code",
   "execution_count": 1,
   "id": "b8f11730-012f-4cd2-a0b4-6f4bf6f29a03",
   "metadata": {
    "scrolled": true
   },
   "outputs": [
    {
     "name": "stdout",
     "output_type": "stream",
     "text": [
      "Processing 2022\n"
     ]
    },
    {
     "name": "stderr",
     "output_type": "stream",
     "text": [
      "100%|██████████| 2831/2831 [18:30<00:00,  2.55it/s] \n"
     ]
    }
   ],
   "source": [
    "!pip install fitz --quiet\n",
    "!pip install PyMuPDF --quiet\n",
    "from tqdm import tqdm\n",
    "import fitz\n",
    "import os\n",
    "from concurrent.futures import ThreadPoolExecutor\n",
    "import json\n",
    "\n",
    "years = range(2013, 2025)\n",
    "output_folder = \"references_by_year\"\n",
    "if not os.path.exists(output_folder):\n",
    "    os.makedirs(output_folder)\n",
    "\n",
    "def extract(path):\n",
    "    doc = fitz.open(path)\n",
    "    \n",
    "    references_section = \"\"\n",
    "    reference_found = False\n",
    "    for page_number in range(doc.page_count):\n",
    "        page = doc.load_page(page_number)\n",
    "        text = page.get_text(\"text\")\n",
    "        if \"references\" in text.lower() or \"citations\" in text.lower():\n",
    "            reference_start = text.lower().find(\"references\")\n",
    "            if reference_start != 1:\n",
    "                reference_found = True\n",
    "                references_section += text[reference_start:]\n",
    "        elif reference_found:\n",
    "            references_section += text\n",
    "    \n",
    "    references = []\n",
    "    ref_rn = \"\"\n",
    "    \n",
    "    for line in references_section.splitlines():\n",
    "        line = line.strip()\n",
    "        if not line:\n",
    "            continue\n",
    "        if line.startswith(\"[\") and line[1:2].isdigit():\n",
    "            if ref_rn:\n",
    "                references.append(ref_rn.strip())\n",
    "            ref_rn = line\n",
    "        else:\n",
    "            ref_rn += \" \" + line\n",
    "    if ref_rn:\n",
    "        references.append(ref_rn.strip())\n",
    "    return references\n",
    "        \n",
    "    \n",
    "for year in years:\n",
    "    print(f\"Processing {year}\")\n",
    "    year_folder = f\"full_papers/papers/{year}\"\n",
    "    pdf_files = [file for file in os.listdir(year_folder) if file.endswith(\".pdf\")]\n",
    "\n",
    "    def process_file(pdf_file):\n",
    "        pdf_path = os.path.join(year_folder, pdf_file)\n",
    "        try: \n",
    "            r = extract(pdf_path)\n",
    "            return { \"paper\": pdf_file, \"references\": r}\n",
    "        except:\n",
    "            return { \"paper\": pdf_file, \"references\": []}\n",
    "    \n",
    "    with ThreadPoolExecutor(max_workers=8) as executor:\n",
    "        references_by_year = list(tqdm(executor.map(process_file, pdf_files), total=len(pdf_files)))\n",
    "    \n",
    "    output_file = os.path.join(output_folder, f\"references_{year}.json\")\n",
    "    with open(output_file, 'w') as out_file:\n",
    "        json.dump(references_by_year, out_file, indent=4)\n"
   ]
  },
  {
   "cell_type": "code",
   "execution_count": null,
   "id": "4685d7f5-c4e7-4e5e-92bb-f9e44a14d241",
   "metadata": {},
   "outputs": [],
   "source": []
  }
 ],
 "metadata": {
  "kernelspec": {
   "display_name": "Python 3 (ipykernel)",
   "language": "python",
   "name": "python3"
  },
  "language_info": {
   "codemirror_mode": {
    "name": "ipython",
    "version": 3
   },
   "file_extension": ".py",
   "mimetype": "text/x-python",
   "name": "python",
   "nbconvert_exporter": "python",
   "pygments_lexer": "ipython3",
   "version": "3.11.9"
  }
 },
 "nbformat": 4,
 "nbformat_minor": 5
}
